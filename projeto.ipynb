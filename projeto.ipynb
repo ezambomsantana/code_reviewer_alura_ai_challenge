{
  "nbformat": 4,
  "nbformat_minor": 0,
  "metadata": {
    "colab": {
      "provenance": [],
      "authorship_tag": "ABX9TyPCwuiY/DYAYPr7sKM+qqwy",
      "include_colab_link": true
    },
    "kernelspec": {
      "name": "python3",
      "display_name": "Python 3"
    },
    "language_info": {
      "name": "python"
    }
  },
  "cells": [
    {
      "cell_type": "markdown",
      "metadata": {
        "id": "view-in-github",
        "colab_type": "text"
      },
      "source": [
        "<a href=\"https://colab.research.google.com/github/ezambomsantana/code_reviewer_alura_ai_challenge/blob/main/projeto.ipynb\" target=\"_parent\"><img src=\"https://colab.research.google.com/assets/colab-badge.svg\" alt=\"Open In Colab\"/></a>"
      ]
    },
    {
      "cell_type": "code",
      "execution_count": 46,
      "metadata": {
        "id": "do3WI4tFX2x4"
      },
      "outputs": [],
      "source": [
        "## Configura e inicializa o Gemini\n",
        "\n",
        "import google.generativeai as genai\n",
        "from google.colab import userdata\n",
        "\n",
        "API_KEY = userdata.get('API_KEY')\n",
        "genai.configure(api_key=API_KEY)\n",
        "\n",
        "# Set up the model\n",
        "generation_config = {\n",
        "  \"temperature\": 1,\n",
        "  \"top_p\": 0.95,\n",
        "  \"top_k\": 0,\n",
        "  \"max_output_tokens\": 8192,\n",
        "}\n",
        "\n",
        "safety_settings = [\n",
        "  {\n",
        "    \"category\": \"HARM_CATEGORY_HARASSMENT\",\n",
        "    \"threshold\": \"BLOCK_MEDIUM_AND_ABOVE\"\n",
        "  },\n",
        "  {\n",
        "    \"category\": \"HARM_CATEGORY_HATE_SPEECH\",\n",
        "    \"threshold\": \"BLOCK_MEDIUM_AND_ABOVE\"\n",
        "  },\n",
        "  {\n",
        "    \"category\": \"HARM_CATEGORY_SEXUALLY_EXPLICIT\",\n",
        "    \"threshold\": \"BLOCK_MEDIUM_AND_ABOVE\"\n",
        "  },\n",
        "  {\n",
        "    \"category\": \"HARM_CATEGORY_DANGEROUS_CONTENT\",\n",
        "    \"threshold\": \"BLOCK_MEDIUM_AND_ABOVE\"\n",
        "  },\n",
        "]\n",
        "\n",
        "model = genai.GenerativeModel(model_name=\"gemini-1.5-pro-latest\",\n",
        "                              generation_config=generation_config,\n",
        "                              safety_settings=safety_settings)\n"
      ]
    },
    {
      "cell_type": "code",
      "source": [
        "languages = {\n",
        "  \"java\": [\n",
        "      'Verificar a identação do código, devem ter 4 espaços.',\n",
        "      'Verificar se os nomes das classes começam com letra maíscula',\n",
        "      'Verificar se os nomes de variáveis, classes e métodos usam o camel case'\n",
        "  ],\n",
        "  \"python\": [\n",
        "      'Verificar se todas as strings usam aspas simples',\n",
        "      'Verificar se os nomes das classes começam com letra maíscula',\n",
        "      'Verificar se as variávei e funções são definidas com letras minúsculas e as palavras separadas com underline'\n",
        "  ]\n",
        "}"
      ],
      "metadata": {
        "id": "YQZ8JyeWNXsT"
      },
      "execution_count": 40,
      "outputs": []
    },
    {
      "cell_type": "code",
      "source": [
        "link = input('Digite o link para o código a ser analisado')\n",
        "link"
      ],
      "metadata": {
        "colab": {
          "base_uri": "https://localhost:8080/",
          "height": 53
        },
        "id": "S4JUHoesN9ZP",
        "outputId": "b7b4b4ad-8122-42fe-fafb-822f95e67f8f"
      },
      "execution_count": 41,
      "outputs": [
        {
          "name": "stdout",
          "output_type": "stream",
          "text": [
            "Digite o link para o código a ser analisadohttps://raw.githubusercontent.com/ezambomsantana/java-back-end-livro/master/user-api/src/main/java/com/santana/java/back/end/controller/UserController.java\n"
          ]
        },
        {
          "output_type": "execute_result",
          "data": {
            "text/plain": [
              "'https://raw.githubusercontent.com/ezambomsantana/java-back-end-livro/master/user-api/src/main/java/com/santana/java/back/end/controller/UserController.java'"
            ],
            "application/vnd.google.colaboratory.intrinsic+json": {
              "type": "string"
            }
          },
          "metadata": {},
          "execution_count": 41
        }
      ]
    },
    {
      "cell_type": "code",
      "source": [
        "import requests\n",
        "\n",
        "file = requests.get(link)\n",
        "file.text"
      ],
      "metadata": {
        "colab": {
          "base_uri": "https://localhost:8080/",
          "height": 107
        },
        "id": "UBSlAOUTOSfc",
        "outputId": "df37c465-7a65-4708-a630-ac0402ee5faa"
      },
      "execution_count": 42,
      "outputs": [
        {
          "output_type": "execute_result",
          "data": {
            "text/plain": [
              "'package com.santana.java.back.end.controller;\\n\\nimport java.util.List;\\n\\nimport lombok.RequiredArgsConstructor;\\nimport org.springframework.data.domain.Page;\\nimport org.springframework.data.domain.Pageable;\\nimport org.springframework.http.HttpStatus;\\nimport org.springframework.web.bind.annotation.*;\\n\\nimport com.santana.java.back.end.dto.UserDTO;\\nimport com.santana.java.back.end.exception.UserNotFoundException;\\nimport com.santana.java.back.end.service.UserService;\\n\\n@RestController\\n@RequestMapping(\"/user\")\\n@RequiredArgsConstructor\\npublic class UserController {\\n\\n\\tprivate final UserService userService;\\n\\n\\t@GetMapping(\"/pageable\")\\n\\tpublic Page<UserDTO> getUsersPage(Pageable pageable) {\\n\\t\\treturn userService.getAllPage(pageable);\\n\\t}\\n\\t\\t\\n\\t@GetMapping\\n\\tpublic List<UserDTO> getUsers() {\\t\\t\\n\\t\\treturn userService.getAll();\\n\\t}\\n\\t\\n\\t@GetMapping(\"/{id}\")\\n\\tpublic UserDTO findById(@PathVariable Long id) {\\n\\t    return userService.findById(id);\\n\\t}\\n\\t\\n\\t@PostMapping\\n\\t@ResponseStatus(HttpStatus.CREATED)\\n\\tpublic UserDTO newUser(@RequestBody UserDTO userDTO) {\\t\\t\\n\\t    return userService.save(userDTO);\\n\\t}\\n\\n\\t@PostMapping(\"/{id}\")\\n\\tpublic UserDTO editUser(@PathVariable Long id,\\n\\t\\t\\t\\t\\t\\t\\t@RequestBody UserDTO userDTO) {\\n\\t\\treturn userService.editUser(id, userDTO);\\n\\t}\\n\\t\\n\\t@GetMapping(\"/{cpf}/cpf\")\\n\\tpublic UserDTO findByCpf(\\n\\t\\t\\t@RequestParam(name=\"key\") String key,\\n\\t\\t\\t@PathVariable String cpf) {\\n\\t    return userService.findByCpf(cpf, key);\\n\\t}\\n\\t\\n\\t@DeleteMapping(\"/{id}\")\\n\\t@ResponseStatus(HttpStatus.NO_CONTENT)\\n\\tpublic void delete(@PathVariable Long id) throws UserNotFoundException {\\n\\t\\tuserService.delete(id);\\n\\t}\\n\\t\\n\\t@GetMapping(\"/search\")\\n\\tpublic List<UserDTO> queryByName(\\n\\t\\t\\t@RequestParam(name=\"nome\", required = true) String nome) {\\n\\t\\treturn userService.queryByName(nome);\\n\\t}\\n\\t\\n}\\n'"
            ],
            "application/vnd.google.colaboratory.intrinsic+json": {
              "type": "string"
            }
          },
          "metadata": {},
          "execution_count": 42
        }
      ]
    },
    {
      "cell_type": "code",
      "source": [
        "convo = model.start_chat(history=[\n",
        "])\n",
        "\n"
      ],
      "metadata": {
        "id": "L3amfYSBZ9UC"
      },
      "execution_count": 43,
      "outputs": []
    },
    {
      "cell_type": "code",
      "source": [
        "convo.send_message(\"Retorne apenas um respsta direta, qual a lingugem do trecho de codigo fonte a seguir?  \\n\\n\" + file.text)\n",
        "linguagem = convo.last.text"
      ],
      "metadata": {
        "id": "VhDKkSEeZ_QN"
      },
      "execution_count": 44,
      "outputs": []
    },
    {
      "cell_type": "code",
      "source": [
        "linguagem = linguagem.strip()\n",
        "\n",
        "if linguagem == 'Java':\n",
        "  convo.send_message(\"Seguindo as regras a seguir, o código anterior tem algum erro?  \\n\\n\".join(languanges['java']))\n",
        "  print(convo.last.text)\n",
        "elif linguagem =='Python':\n",
        "  convo.send_message(\"Seguindo as regras a seguir, o código anterior tem algum erro?  \\n\\n\".join(languanges['python']))\n",
        "  print(convo.last.text)\n",
        "else:\n",
        "  print(\"Linguagem não suportada\")\n"
      ],
      "metadata": {
        "colab": {
          "base_uri": "https://localhost:8080/",
          "height": 160
        },
        "id": "yx_K1NxkPZop",
        "outputId": "42817990-3ef5-44c8-b2da-7cdf85b00c12"
      },
      "execution_count": 45,
      "outputs": [
        {
          "output_type": "stream",
          "name": "stdout",
          "text": [
            "O código que você forneceu parece estar bem indentado com 4 espaços e segue as convenções de nomenclatura Java corretamente:\n",
            "\n",
            "1. **Identação:** O código está indentado corretamente com 4 espaços, o que melhora a legibilidade. \n",
            "2. **Nomes de Classes:** Todas as classes (ex: `UserController`, `UserService`, `UserDTO`) começam com letra maiúscula, seguindo as convenções de nomenclatura Java. \n",
            "3. **Camel Case:** Variáveis, classes e métodos usam o camel case (ex: `userService`, `findById`, `userDTO`), o que é a convenção padrão em Java. \n",
            "\n",
            "Portanto, com base nas informações fornecidas, o código parece estar de acordo com as regras de estilo e nomenclatura Java. \n",
            "\n"
          ]
        }
      ]
    }
  ]
}